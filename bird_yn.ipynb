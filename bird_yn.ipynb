{
  "cells": [
    {
      "cell_type": "markdown",
      "metadata": {
        "id": "view-in-github",
        "colab_type": "text"
      },
      "source": [
        "<a href=\"https://colab.research.google.com/github/anjalipatel101/481_Project_Fall_2023/blob/bird_yn/bird_yn.ipynb\" target=\"_parent\"><img src=\"https://colab.research.google.com/assets/colab-badge.svg\" alt=\"Open In Colab\"/></a>"
      ]
    },
    {
      "cell_type": "markdown",
      "source": [
        "INITIAL SET UP (ALL BASES COVERED)\n"
      ],
      "metadata": {
        "id": "bWsmm7O3KI4Z"
      }
    },
    {
      "cell_type": "code",
      "execution_count": null,
      "metadata": {
        "id": "n__9FGO1VRan"
      },
      "outputs": [],
      "source": [
        "import keras\n",
        "from keras import backend as K\n",
        "from keras.layers.core import Dense, Activation\n",
        "from keras.optimizers import Adam\n",
        "from keras.metrics import categorical_crossentropy\n",
        "from keras.preprocessing.image import ImageDataGenerator\n",
        "from keras.preprocessing import image\n",
        "from keras.models import Model\n",
        "from keras.applications import imagenet_utils\n",
        "import numpy as np\n",
        "from IPython.display import Image"
      ]
    },
    {
      "cell_type": "code",
      "execution_count": null,
      "metadata": {
        "id": "66nBnw-lwXfZ"
      },
      "outputs": [],
      "source": [
        "#mobile = keras.applications.mobilenet.MobileNet()\n",
        "\n",
        "#def img_prep(file):\n",
        " # img_path = ' '\n",
        "  #img = image.load_img(img_path + file, target_size=(224,224))\n",
        "  #biarray = image.img_to_array(img)\n",
        "  #biarray_large = np.expand_dims(img_array, axis = 0)\n",
        "  #return keras.applications.mobilenet.preprocess_input(biarray_large)"
      ]
    },
    {
      "cell_type": "code",
      "execution_count": null,
      "metadata": {
        "id": "ynVWkhCy0US1"
      },
      "outputs": [],
      "source": [
        "!pip install opendatasets\n",
        "!pip install pandas"
      ]
    },
    {
      "cell_type": "code",
      "execution_count": null,
      "metadata": {
        "id": "HAasvW7j1vtj"
      },
      "outputs": [],
      "source": [
        "import opendatasets as od\n",
        "import pandas\n",
        "\n",
        "od.download(\n",
        "    \"https://www.kaggle.com/datasets/rafsunahmad/choose-your-pet/\"\n",
        ")\n",
        "\n"
      ]
    },
    {
      "cell_type": "markdown",
      "source": [
        "START HERE:\n",
        "Run each time and look through single and multi image display"
      ],
      "metadata": {
        "id": "49ftO_ZhJdrD"
      }
    },
    {
      "cell_type": "code",
      "execution_count": null,
      "metadata": {
        "id": "j8vuSQMSRlQ9"
      },
      "outputs": [],
      "source": [
        "from google.colab import drive\n",
        "\n",
        "#used for unmounting the drive\n",
        "#drive.flush_and_unmount()\n",
        "\n",
        "drive.mount('/content/drive')\n",
        "\n",
        "#Unzip archive.zip for access to animal images\n",
        "!unzip '/content/drive/MyDrive/archive.zip'\n"
      ]
    },
    {
      "cell_type": "code",
      "execution_count": null,
      "metadata": {
        "colab": {
          "base_uri": "https://localhost:8080/"
        },
        "id": "vWKhbhAQ0zOC",
        "outputId": "2e23fb18-75bb-4c7d-c8f5-5d72f24d350b"
      },
      "outputs": [
        {
          "name": "stdout",
          "output_type": "stream",
          "text": [
            "Requirement already satisfied: Pillow in /usr/local/lib/python3.10/dist-packages (9.4.0)\n"
          ]
        }
      ],
      "source": [
        "!pip install Pillow"
      ]
    },
    {
      "cell_type": "code",
      "execution_count": null,
      "metadata": {
        "colab": {
          "background_save": true
        },
        "id": "icyGgx1MyOba"
      },
      "outputs": [],
      "source": [
        "#DISPLAYING SINGLE IMAGES TEST\n",
        "\n",
        "from IPython.display import display, Image\n",
        "from PIL import Image as PILImage\n",
        "\n",
        "# Set the path to your dataset in Google Drive\n",
        "dataset_path = '/content/ai-dataset/Parrotlet'\n",
        "\n",
        "# List files in the dataset directory\n",
        "file_list = os.listdir(dataset_path)\n",
        "first_image_path = os.path.join(dataset_path, file_list[0])\n",
        "img = PILImage.open(first_image_path)\n",
        "display(img)\n"
      ]
    },
    {
      "cell_type": "code",
      "execution_count": null,
      "metadata": {
        "id": "8RTyQyw42bzg"
      },
      "outputs": [],
      "source": [
        "#### DISPLAYING IMAGES TEST ####\n",
        "from IPython.display import display, Image\n",
        "from PIL import Image as PILImage\n",
        "import os\n",
        "\n",
        "# Set the path to your dataset in Google Drive\n",
        "dataset_path = '/content/ai-dataset/Canary'\n",
        "\n",
        "# List files in the dataset directory\n",
        "file_list = os.listdir(dataset_path)\n",
        "\n",
        "# Iterate through all images and display each one\n",
        "for filename in file_list:\n",
        "    if filename.endswith(('.jpg', '.jpeg', '.png')):  # Filter only image files\n",
        "        image_path = os.path.join(dataset_path, filename)\n",
        "        img = PILImage.open(image_path)\n",
        "        display(img)\n"
      ]
    },
    {
      "cell_type": "markdown",
      "source": [
        "NEED TO FIX\n",
        "\n",
        "\n",
        "** Goal: train the data on the images to get it to output y/n if a picture is a bird or not"
      ],
      "metadata": {
        "id": "8SzTBmU1KCdu"
      }
    },
    {
      "cell_type": "code",
      "execution_count": null,
      "metadata": {
        "id": "81FudAW3OvDX"
      },
      "outputs": [],
      "source": [
        "import os\n",
        "import numpy as np\n",
        "from tensorflow.keras.preprocessing import image\n",
        "from tensorflow.keras.applications.mobilenet_v2 import MobileNetV2, preprocess_input, decode_predictions\n",
        "\n",
        "# Load the pre-trained MobileNetV2 model\n",
        "model = MobileNetV2(weights='imagenet')\n",
        "\n",
        "def predict_bird(image_path):\n",
        "    # Load and preprocess the input image\n",
        "    img = image.load_img(image_path, target_size=(224, 224))\n",
        "    img_array = image.img_to_array(img)\n",
        "    img_array = img_array / 255.0  # Normalize pixel values to be between 0 and 1\n",
        "    img_array = preprocess_input(np.expand_dims(img_array, axis=0))\n",
        "\n",
        "    # Make predictions\n",
        "    predictions = model.predict(img_array)\n",
        "    decoded_predictions = decode_predictions(predictions, top=1)[0]\n",
        "\n",
        "    # Check if the top prediction is a bird\n",
        "    return \"bird\" in decoded_predictions[0][1].lower()\n",
        "\n",
        "def identify_birds_in_dataset(dataset_dir):\n",
        "    # Iterate through each file in the directory\n",
        "    for filename in os.listdir(dataset_dir):\n",
        "        if filename.endswith(\".jpg\") or filename.endswith(\".png\"):\n",
        "            # Construct the full path to the image\n",
        "            image_path = os.path.join(dataset_dir, filename)\n",
        "\n",
        "            # Use the predict_bird function to determine if the image contains a bird\n",
        "            is_bird = predict_bird(image_path)\n",
        "\n",
        "            # Print the result\n",
        "            if is_bird:\n",
        "                print(f\"{filename}: The animal in the image is a bird.\")\n",
        "            else:\n",
        "                print(f\"{filename}: The animal in the image is not a bird.\")\n",
        "\n",
        "# Directory containing the animal dataset\n",
        "animal_dataset_dir = '/content/Choose pet datset for kaggle/Canary'\n",
        "\n",
        "# Identify birds in the dataset\n",
        "identify_birds_in_dataset(animal_dataset_dir)\n"
      ]
    }
  ],
  "metadata": {
    "colab": {
      "provenance": [],
      "mount_file_id": "1xYggZB-e88t6DRiCW6aUnnSjhlUHKoHL",
      "authorship_tag": "ABX9TyOujfvfIvmJBqiiGKw4Fb10",
      "include_colab_link": true
    },
    "kernelspec": {
      "display_name": "Python 3",
      "name": "python3"
    },
    "language_info": {
      "name": "python"
    }
  },
  "nbformat": 4,
  "nbformat_minor": 0
}