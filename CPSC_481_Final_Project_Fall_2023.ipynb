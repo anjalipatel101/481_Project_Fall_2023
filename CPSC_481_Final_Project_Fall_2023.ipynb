{
  "nbformat": 4,
  "nbformat_minor": 0,
  "metadata": {
    "colab": {
      "provenance": [],
      "include_colab_link": true
    },
    "kernelspec": {
      "name": "python3",
      "display_name": "Python 3"
    },
    "language_info": {
      "name": "python"
    }
  },
  "cells": [
    {
      "cell_type": "markdown",
      "metadata": {
        "id": "view-in-github",
        "colab_type": "text"
      },
      "source": [
        "<a href=\"https://colab.research.google.com/github/anjalipatel101/481_Project_Fall_2023/blob/dog_yn/CPSC_481_Final_Project_Fall_2023.ipynb\" target=\"_parent\"><img src=\"https://colab.research.google.com/assets/colab-badge.svg\" alt=\"Open In Colab\"/></a>"
      ]
    },
    {
      "cell_type": "code",
      "execution_count": null,
      "metadata": {
        "id": "5BhgfNFpnxeK"
      },
      "outputs": [],
      "source": [
        "import keras\n",
        "from keras import backend as K\n",
        "from keras.layers.core import Dense, Activation\n",
        "from keras.optimizers import Adam\n",
        "from keras.metrics import categorical_crossentropy\n",
        "from keras.preprocessing.image import ImageDataGenerator\n",
        "from keras.preprocessing import image\n",
        "from keras.models import Model\n",
        "from keras.applications import imagenet_utils\n",
        "import numpy as np\n",
        "from IPython.display import Image\n"
      ]
    },
    {
      "cell_type": "code",
      "source": [
        "\n",
        "!pip install opendatasets\n",
        "!pip install pandas"
      ],
      "metadata": {
        "id": "EiDzYejKM3DE"
      },
      "execution_count": null,
      "outputs": []
    },
    {
      "cell_type": "code",
      "source": [
        "\n",
        "import opendatasets as od\n",
        "import pandas\n",
        "\n",
        "od.download(\n",
        "    \"https://www.kaggle.com/datasets/rafsunahmad/choose-your-pet/\"\n",
        ")"
      ],
      "metadata": {
        "id": "wwp0t4dlM5Wb"
      },
      "execution_count": null,
      "outputs": []
    },
    {
      "cell_type": "code",
      "source": [
        "from google.colab import drive\n",
        "\n",
        "#used for unmounting the drive\n",
        "#drive.flush_and_unmount()\n",
        "\n",
        "drive.mount('/content/drive')\n",
        "\n",
        "#Unzip archive.zip for access to animal images\n",
        "!unzip '/content/drive/MyDrive/archive.zip'"
      ],
      "metadata": {
        "id": "35C8tL1wM7Sq"
      },
      "execution_count": null,
      "outputs": []
    },
    {
      "cell_type": "code",
      "source": [
        "import os\n",
        "import numpy as np\n",
        "from tensorflow.keras.preprocessing import image\n",
        "from tensorflow.keras.applications.mobilenet_v2 import MobileNetV2, preprocess_input, decode_predictions\n",
        "\n",
        "# Load the pre-trained MobileNetV2 model\n",
        "model = MobileNetV2(weights='imagenet')\n",
        "\n",
        "def predict_bird(image_path):\n",
        "    # Load and preprocess the input image\n",
        "    img = image.load_img(image_path, target_size=(224, 224))\n",
        "    img_array = image.img_to_array(img)\n",
        "    img_array = img_array / 255.0  # Normalize pixel values to be between 0 and 1\n",
        "    img_array = preprocess_input(np.expand_dims(img_array, axis=0))\n",
        "\n",
        "    # Make predictions\n",
        "    predictions = model.predict(img_array)\n",
        "    decoded_predictions = decode_predictions(predictions, top=1)[0]\n",
        "\n",
        "    # Check if the top prediction is a bird\n",
        "    return \"bird\" in decoded_predictions[0][1].lower()\n",
        "\n",
        "def identify_birds_in_dataset(dataset_dir):\n",
        "    # Iterate through each file in the directory\n",
        "    for filename in os.listdir(dataset_dir):\n",
        "        if filename.endswith(\".jpg\") or filename.endswith(\".png\"):\n",
        "            # Construct the full path to the image\n",
        "            image_path = os.path.join(dataset_dir, filename)\n",
        "\n",
        "            # Use the predict_bird function to determine if the image contains a bird\n",
        "            is_bird = predict_bird(image_path)\n",
        "\n",
        "            # Print the result\n",
        "            if is_bird:\n",
        "                print(f\"{filename}: The animal in the image is a bird.\")\n",
        "            else:\n",
        "                print(f\"{filename}: The animal in the image is not a bird.\")\n",
        "\n",
        "# Directory containing the animal dataset\n",
        "animal_dataset_dir = '/content/Choose pet datset for kaggle/Canary'\n",
        "\n",
        "# Identify birds in the dataset\n",
        "identify_birds_in_dataset(animal_dataset_dir)\n"
      ],
      "metadata": {
        "id": "6UPzrjJbM9ir"
      },
      "execution_count": null,
      "outputs": []
    },
    {
      "cell_type": "markdown",
      "source": [],
      "metadata": {
        "id": "E0Xq9kc8OR1G"
      }
    }
  ]
}