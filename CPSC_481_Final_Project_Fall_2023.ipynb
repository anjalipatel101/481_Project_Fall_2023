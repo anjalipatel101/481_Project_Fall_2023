{
  "nbformat": 4,
  "nbformat_minor": 0,
  "metadata": {
    "colab": {
      "provenance": [],
      "include_colab_link": true
    },
    "kernelspec": {
      "name": "python3",
      "display_name": "Python 3"
    },
    "language_info": {
      "name": "python"
    }
  },
  "cells": [
    {
      "cell_type": "markdown",
      "metadata": {
        "id": "view-in-github",
        "colab_type": "text"
      },
      "source": [
        "<a href=\"https://colab.research.google.com/github/anjalipatel101/481_Project_Fall_2023/blob/dog_yn/CPSC_481_Final_Project_Fall_2023.ipynb\" target=\"_parent\"><img src=\"https://colab.research.google.com/assets/colab-badge.svg\" alt=\"Open In Colab\"/></a>"
      ]
    },
    {
      "cell_type": "code",
      "execution_count": 1,
      "metadata": {
        "id": "5BhgfNFpnxeK"
      },
      "outputs": [],
      "source": [
        "import matplotlib.pyplot as plt\n",
        "import numpy as np\n",
        "import PIL\n",
        "import tensorflow as tf\n",
        "\n",
        "from tensorflow import keras\n",
        "from tensorflow.keras import layers\n",
        "from tensorflow.keras.models import Sequential\n"
      ]
    },
    {
      "cell_type": "code",
      "source": [
        "\n",
        "!pip install opendatasets\n",
        "!pip install pandas"
      ],
      "metadata": {
        "id": "EiDzYejKM3DE",
        "colab": {
          "base_uri": "https://localhost:8080/"
        },
        "outputId": "25e533c5-070c-48f0-e05c-4961fb571240"
      },
      "execution_count": 2,
      "outputs": [
        {
          "output_type": "stream",
          "name": "stdout",
          "text": [
            "Collecting opendatasets\n",
            "  Downloading opendatasets-0.1.22-py3-none-any.whl (15 kB)\n",
            "Requirement already satisfied: tqdm in /usr/local/lib/python3.10/dist-packages (from opendatasets) (4.66.1)\n",
            "Requirement already satisfied: kaggle in /usr/local/lib/python3.10/dist-packages (from opendatasets) (1.5.16)\n",
            "Requirement already satisfied: click in /usr/local/lib/python3.10/dist-packages (from opendatasets) (8.1.7)\n",
            "Requirement already satisfied: six>=1.10 in /usr/local/lib/python3.10/dist-packages (from kaggle->opendatasets) (1.16.0)\n",
            "Requirement already satisfied: certifi in /usr/local/lib/python3.10/dist-packages (from kaggle->opendatasets) (2023.7.22)\n",
            "Requirement already satisfied: python-dateutil in /usr/local/lib/python3.10/dist-packages (from kaggle->opendatasets) (2.8.2)\n",
            "Requirement already satisfied: requests in /usr/local/lib/python3.10/dist-packages (from kaggle->opendatasets) (2.31.0)\n",
            "Requirement already satisfied: python-slugify in /usr/local/lib/python3.10/dist-packages (from kaggle->opendatasets) (8.0.1)\n",
            "Requirement already satisfied: urllib3 in /usr/local/lib/python3.10/dist-packages (from kaggle->opendatasets) (2.0.7)\n",
            "Requirement already satisfied: bleach in /usr/local/lib/python3.10/dist-packages (from kaggle->opendatasets) (6.1.0)\n",
            "Requirement already satisfied: webencodings in /usr/local/lib/python3.10/dist-packages (from bleach->kaggle->opendatasets) (0.5.1)\n",
            "Requirement already satisfied: text-unidecode>=1.3 in /usr/local/lib/python3.10/dist-packages (from python-slugify->kaggle->opendatasets) (1.3)\n",
            "Requirement already satisfied: charset-normalizer<4,>=2 in /usr/local/lib/python3.10/dist-packages (from requests->kaggle->opendatasets) (3.3.2)\n",
            "Requirement already satisfied: idna<4,>=2.5 in /usr/local/lib/python3.10/dist-packages (from requests->kaggle->opendatasets) (3.4)\n",
            "Installing collected packages: opendatasets\n",
            "Successfully installed opendatasets-0.1.22\n",
            "Requirement already satisfied: pandas in /usr/local/lib/python3.10/dist-packages (1.5.3)\n",
            "Requirement already satisfied: python-dateutil>=2.8.1 in /usr/local/lib/python3.10/dist-packages (from pandas) (2.8.2)\n",
            "Requirement already satisfied: pytz>=2020.1 in /usr/local/lib/python3.10/dist-packages (from pandas) (2023.3.post1)\n",
            "Requirement already satisfied: numpy>=1.21.0 in /usr/local/lib/python3.10/dist-packages (from pandas) (1.23.5)\n",
            "Requirement already satisfied: six>=1.5 in /usr/local/lib/python3.10/dist-packages (from python-dateutil>=2.8.1->pandas) (1.16.0)\n"
          ]
        }
      ]
    },
    {
      "cell_type": "code",
      "source": [
        "\n",
        "import opendatasets as od\n",
        "import pandas\n",
        "\n",
        "od.download(\n",
        "    \"https://www.kaggle.com/datasets/rafsunahmad/choose-your-pet/\"\n",
        ")"
      ],
      "metadata": {
        "id": "wwp0t4dlM5Wb",
        "colab": {
          "base_uri": "https://localhost:8080/"
        },
        "outputId": "f2ccd5ff-a1f8-4239-e570-a001621b99fa"
      },
      "execution_count": 3,
      "outputs": [
        {
          "output_type": "stream",
          "name": "stdout",
          "text": [
            "Please provide your Kaggle credentials to download this dataset. Learn more: http://bit.ly/kaggle-creds\n",
            "Your Kaggle username: azucenaljim1\n",
            "Your Kaggle Key: ··········\n",
            "Downloading choose-your-pet.zip to ./choose-your-pet\n"
          ]
        },
        {
          "output_type": "stream",
          "name": "stderr",
          "text": [
            "100%|██████████| 1.02G/1.02G [00:14<00:00, 74.4MB/s]"
          ]
        },
        {
          "output_type": "stream",
          "name": "stdout",
          "text": [
            "\n"
          ]
        },
        {
          "output_type": "stream",
          "name": "stderr",
          "text": [
            "\n"
          ]
        }
      ]
    },
    {
      "cell_type": "code",
      "source": [
        "# TRAIN: Labrador Retriever, Golden Retriever, German Shepherd, Bulldog, Beagle,\n",
        "        #Poodle, Yorkshire Terrier, Dachshund, Shih Tzu, Boxer\n",
        "\n",
        "#TEST: French Bulldog, Rottweiler, Miniature Schnauzer, Cocker Spaniel, Great Dane"
      ],
      "metadata": {
        "id": "t21ZXaKjf6Oo"
      },
      "execution_count": null,
      "outputs": []
    },
    {
      "cell_type": "code",
      "source": [
        "from google.colab import drive\n",
        "\n",
        "#used for unmounting the drive\n",
        "#drive.flush_and_unmount()\n",
        "\n",
        "drive.mount('/content/drive')\n",
        "\n",
        "#Unzip archive.zip for access to animal images\n",
        "!unzip '/content/drive/MyDrive/archive.zip'"
      ],
      "metadata": {
        "id": "35C8tL1wM7Sq",
        "colab": {
          "base_uri": "https://localhost:8080/"
        },
        "outputId": "7e0ce4df-c1fe-486d-ff31-e63bca8a0d90"
      },
      "execution_count": 5,
      "outputs": [
        {
          "output_type": "stream",
          "name": "stdout",
          "text": [
            "Mounted at /content/drive\n",
            "unzip:  cannot find or open /content/drive/MyDrive/archive.zip, /content/drive/MyDrive/archive.zip.zip or /content/drive/MyDrive/archive.zip.ZIP.\n"
          ]
        }
      ]
    },
    {
      "cell_type": "code",
      "source": [
        "import os\n",
        "import numpy as np\n",
        "from tensorflow.keras.preprocessing import image\n",
        "from tensorflow.keras.applications.mobilenet_v2 import MobileNetV2, preprocess_input, decode_predictions\n",
        "\n",
        "# Load the pre-trained MobileNetV2 model\n",
        "model = MobileNetV2(weights='imagenet')\n",
        "\n",
        "def predict_dog(image_path):\n",
        "    # Load and preprocess the input image\n",
        "    img = image.load_img(image_path, target_size=(224, 224)) # double check the image path it might be different\n",
        "    img_array = image.img_to_array(img)\n",
        "    img_array = img_array / 255.0  # Normalize pixel values to be between 0 and 1\n",
        "    img_array = preprocess_input(np.expand_dims(img_array, axis=0))\n",
        "\n",
        "    # Make predictions\n",
        "    predictions = model.predict(img_array)\n",
        "    decoded_predictions = decode_predictions(predictions, top=1)[0]\n",
        "\n",
        "    # Check if the top prediction is a bird\n",
        "    return \"dog\" in decoded_predictions[0][1].lower()\n",
        "\n",
        "def identify_dog_in_dataset(dataset_dir):\n",
        "    # Iterate through each file in the directory\n",
        "    for filename in os.listdir(dataset_dir):\n",
        "        if filename.endswith(\".jpg\") or filename.endswith(\".png\"):\n",
        "            # Construct the full path to the image\n",
        "            image_path = os.path.join(dataset_dir, filename)\n",
        "\n",
        "            # Use the predict_bird function to determine if the image contains a bird\n",
        "            is_bird = predict_bird(image_path)\n",
        "\n",
        "            # Print the result\n",
        "            if is_bird:\n",
        "                print(f\"{filename}: The animal in the image is a dog.\")\n",
        "            else:\n",
        "                print(f\"{filename}: The animal in the image is not a dog.\")\n",
        "\n",
        "# Directory containing the animal dataset\n",
        "animal_dataset_dir = '/content/Choose pet datset for kaggle/Canary'\n",
        "\n",
        "# Identify birds in the dataset\n",
        "identify_dogs_in_dataset(animal_dataset_dir)\n"
      ],
      "metadata": {
        "id": "6UPzrjJbM9ir"
      },
      "execution_count": null,
      "outputs": []
    },
    {
      "cell_type": "markdown",
      "source": [],
      "metadata": {
        "id": "E0Xq9kc8OR1G"
      }
    }
  ]
}