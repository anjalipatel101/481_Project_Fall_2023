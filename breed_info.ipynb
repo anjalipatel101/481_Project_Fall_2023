{
  "nbformat": 4,
  "nbformat_minor": 0,
  "metadata": {
    "colab": {
      "provenance": [],
      "include_colab_link": true
    },
    "kernelspec": {
      "name": "python3",
      "display_name": "Python 3"
    },
    "language_info": {
      "name": "python"
    }
  },
  "cells": [
    {
      "cell_type": "markdown",
      "metadata": {
        "id": "view-in-github",
        "colab_type": "text"
      },
      "source": [
        "<a href=\"https://colab.research.google.com/github/anjalipatel101/481_Project_Fall_2023/blob/official_np/breed_info.ipynb\" target=\"_parent\"><img src=\"https://colab.research.google.com/assets/colab-badge.svg\" alt=\"Open In Colab\"/></a>"
      ]
    },
    {
      "cell_type": "code",
      "execution_count": null,
      "metadata": {
        "id": "BIBoalW2zUPt"
      },
      "outputs": [],
      "source": [
        "import numpy as np\n",
        "import pandas as pd\n",
        "import os\n",
        "import matplotlib.pyplot as plt\n",
        "import tensorflow as tf\n",
        "from sklearn.metrics import classification_report, log_loss, accuracy_score\n",
        "from sklearn.model_selection import train_test_split\n",
        "import matplotlib.pyplot as plt\n",
        "import numpy as np\n",
        "import PIL\n",
        "import tensorflow as tf\n",
        "\n",
        "from tensorflow import keras"
      ]
    },
    {
      "cell_type": "code",
      "source": [
        "from google.colab import drive\n",
        "drive.mount('/content/drive')"
      ],
      "metadata": {
        "id": "x38-kKvRIZHo",
        "outputId": "e39f5d60-ede6-4de5-c3bf-d98b2667fa51",
        "colab": {
          "base_uri": "https://localhost:8080/"
        }
      },
      "execution_count": null,
      "outputs": [
        {
          "output_type": "stream",
          "name": "stdout",
          "text": [
            "Drive already mounted at /content/drive; to attempt to forcibly remount, call drive.mount(\"/content/drive\", force_remount=True).\n"
          ]
        }
      ]
    },
    {
      "cell_type": "code",
      "source": [
        "!pip install opendatasets\n",
        "!pip install pandas"
      ],
      "metadata": {
        "colab": {
          "base_uri": "https://localhost:8080/"
        },
        "id": "jmrJwo9tzclI",
        "outputId": "d720851f-248f-4954-eaeb-f0e1d5029738"
      },
      "execution_count": null,
      "outputs": [
        {
          "output_type": "stream",
          "name": "stdout",
          "text": [
            "Collecting opendatasets\n",
            "  Downloading opendatasets-0.1.22-py3-none-any.whl (15 kB)\n",
            "Requirement already satisfied: tqdm in /usr/local/lib/python3.10/dist-packages (from opendatasets) (4.66.1)\n",
            "Requirement already satisfied: kaggle in /usr/local/lib/python3.10/dist-packages (from opendatasets) (1.5.16)\n",
            "Requirement already satisfied: click in /usr/local/lib/python3.10/dist-packages (from opendatasets) (8.1.7)\n",
            "Requirement already satisfied: six>=1.10 in /usr/local/lib/python3.10/dist-packages (from kaggle->opendatasets) (1.16.0)\n",
            "Requirement already satisfied: certifi in /usr/local/lib/python3.10/dist-packages (from kaggle->opendatasets) (2023.11.17)\n",
            "Requirement already satisfied: python-dateutil in /usr/local/lib/python3.10/dist-packages (from kaggle->opendatasets) (2.8.2)\n",
            "Requirement already satisfied: requests in /usr/local/lib/python3.10/dist-packages (from kaggle->opendatasets) (2.31.0)\n",
            "Requirement already satisfied: python-slugify in /usr/local/lib/python3.10/dist-packages (from kaggle->opendatasets) (8.0.1)\n",
            "Requirement already satisfied: urllib3 in /usr/local/lib/python3.10/dist-packages (from kaggle->opendatasets) (2.0.7)\n",
            "Requirement already satisfied: bleach in /usr/local/lib/python3.10/dist-packages (from kaggle->opendatasets) (6.1.0)\n",
            "Requirement already satisfied: webencodings in /usr/local/lib/python3.10/dist-packages (from bleach->kaggle->opendatasets) (0.5.1)\n",
            "Requirement already satisfied: text-unidecode>=1.3 in /usr/local/lib/python3.10/dist-packages (from python-slugify->kaggle->opendatasets) (1.3)\n",
            "Requirement already satisfied: charset-normalizer<4,>=2 in /usr/local/lib/python3.10/dist-packages (from requests->kaggle->opendatasets) (3.3.2)\n",
            "Requirement already satisfied: idna<4,>=2.5 in /usr/local/lib/python3.10/dist-packages (from requests->kaggle->opendatasets) (3.6)\n",
            "Installing collected packages: opendatasets\n",
            "Successfully installed opendatasets-0.1.22\n",
            "Requirement already satisfied: pandas in /usr/local/lib/python3.10/dist-packages (1.5.3)\n",
            "Requirement already satisfied: python-dateutil>=2.8.1 in /usr/local/lib/python3.10/dist-packages (from pandas) (2.8.2)\n",
            "Requirement already satisfied: pytz>=2020.1 in /usr/local/lib/python3.10/dist-packages (from pandas) (2023.3.post1)\n",
            "Requirement already satisfied: numpy>=1.21.0 in /usr/local/lib/python3.10/dist-packages (from pandas) (1.23.5)\n",
            "Requirement already satisfied: six>=1.5 in /usr/local/lib/python3.10/dist-packages (from python-dateutil>=2.8.1->pandas) (1.16.0)\n"
          ]
        }
      ]
    },
    {
      "cell_type": "code",
      "source": [],
      "metadata": {
        "id": "176hAWH-k1XT"
      },
      "execution_count": null,
      "outputs": []
    },
    {
      "cell_type": "code",
      "execution_count": null,
      "metadata": {
        "id": "HAasvW7j1vtj"
      },
      "outputs": [],
      "source": [
        "import opendatasets as od\n",
        "import pandas\n",
        "\n",
        "od.download(\n",
        "    \"https://www.kaggle.com/datasets/imsparsh/animal-breed-cats-and-dogs\"\n",
        ")\n",
        "\n"
      ]
    },
    {
      "cell_type": "code",
      "source": [
        "from google.colab import drive\n",
        "\n",
        "#used for unmounting the drive\n",
        "drive.flush_and_unmount()\n",
        "\n",
        "drive.mount('/content/drive')\n",
        "\n",
        "#Unzip archive.zip for access to animal images\n",
        "!unzip '/content/drive/MyDrive/archive4.zip'\n"
      ],
      "metadata": {
        "id": "kfdQdazQk7ad"
      },
      "execution_count": null,
      "outputs": []
    },
    {
      "cell_type": "code",
      "source": [
        "!pip install -q kaggle\n",
        "\n",
        "\n",
        "!cp kaggle.json ~/.kaggle/\n",
        "!chmod 600 ~/.kaggle/kaggle.json\n",
        "\n",
        "\n",
        "!kaggle datasets download imsparsh/animal-breed-cats-and-dogs"
      ],
      "metadata": {
        "colab": {
          "base_uri": "https://localhost:8080/"
        },
        "id": "tyILrxUkzeV5",
        "outputId": "8962e62e-8331-4e2f-b78a-a5ebad09067f"
      },
      "execution_count": null,
      "outputs": [
        {
          "output_type": "stream",
          "name": "stdout",
          "text": [
            "cp: cannot stat 'kaggle.json': No such file or directory\n",
            "chmod: cannot access '/root/.kaggle/kaggle.json': No such file or directory\n",
            "Traceback (most recent call last):\n",
            "  File \"/usr/local/bin/kaggle\", line 5, in <module>\n",
            "    from kaggle.cli import main\n",
            "  File \"/usr/local/lib/python3.10/dist-packages/kaggle/__init__.py\", line 23, in <module>\n",
            "    api.authenticate()\n",
            "  File \"/usr/local/lib/python3.10/dist-packages/kaggle/api/kaggle_api_extended.py\", line 403, in authenticate\n",
            "    raise IOError('Could not find {}. Make sure it\\'s located in'\n",
            "OSError: Could not find kaggle.json. Make sure it's located in /root/.kaggle. Or use the environment method.\n"
          ]
        }
      ]
    },
    {
      "cell_type": "code",
      "source": [
        "!unzip animal-breed-cats-and-dogs.zip"
      ],
      "metadata": {
        "id": "BNVPQlcLzkZ6",
        "colab": {
          "base_uri": "https://localhost:8080/"
        },
        "outputId": "439bd42a-91fe-49b0-dab4-15d6fa46eca7"
      },
      "execution_count": null,
      "outputs": [
        {
          "output_type": "stream",
          "name": "stdout",
          "text": [
            "unzip:  cannot find or open animal-breed-cats-and-dogs.zip, animal-breed-cats-and-dogs.zip.zip or animal-breed-cats-and-dogs.zip.ZIP.\n"
          ]
        }
      ]
    },
    {
      "cell_type": "code",
      "source": [
        "import pathlib\n",
        "import os\n",
        "import imghdr\n",
        "data_dir = '/content/data_dir/TRAIN'"
      ],
      "metadata": {
        "id": "PRmoIJQO0lBD"
      },
      "execution_count": 15,
      "outputs": []
    },
    {
      "cell_type": "code",
      "source": [
        "import numpy as np\n",
        "import pandas as pd\n",
        "import os"
      ],
      "metadata": {
        "id": "T-kRXH9-0r1p"
      },
      "execution_count": 16,
      "outputs": []
    },
    {
      "cell_type": "code",
      "source": [
        "import matplotlib.pyplot as plt\n",
        "import tensorflow as tf\n",
        "\n",
        "from tensorflow.keras.utils import to_categorical\n",
        "from tensorflow.keras.preprocessing.image import load_img, img_to_array\n",
        "from tensorflow.keras.preprocessing.image import ImageDataGenerator\n",
        "\n",
        "from sklearn.metrics import classification_report, log_loss, accuracy_score\n",
        "from sklearn.model_selection import train_test_split"
      ],
      "metadata": {
        "id": "_qkreb0V0yjM"
      },
      "execution_count": 17,
      "outputs": []
    },
    {
      "cell_type": "code",
      "source": [
        "directory = '/content/Cats-and-Dogs-Breed-Dataset-main/TRAIN'\n",
        "directory2 = '/content/Cats-and-Dogs-Breed-Dataset-main/TEST'"
      ],
      "metadata": {
        "id": "DYghuuwJ1EVV"
      },
      "execution_count": 20,
      "outputs": []
    },
    {
      "cell_type": "code",
      "source": [
        "Name=[]\n",
        "for file in os.listdir(directory):\n",
        "    Name+=[file]\n",
        "print(Name)\n",
        "print(len(Name))"
      ],
      "metadata": {
        "colab": {
          "base_uri": "https://localhost:8080/"
        },
        "id": "AIOlTxPo1MSZ",
        "outputId": "e96c2f95-a675-41d7-f375-2faa77f23fed"
      },
      "execution_count": 21,
      "outputs": [
        {
          "output_type": "stream",
          "name": "stdout",
          "text": [
            "['american_pit_bull_terrier', 'yorkshire_terrier', 'birman', 'havanese', 'samoyed', 'bengal', 'miniature_pinscher', 'persian', 'egyptian_mau', 'chihuahua', 'sphynx', 'maine_coon', 'american_bulldog', 'siamese', 'german_shorthaired', 'leonberger', 'bombay', 'scottish_terrier', 'keeshond', 'pug', 'abyssinian', 'shiba_inu', 'basset_hound', 'pomeranian', 'english_setter', 'english_cocker_spaniel', 'british_shorthair', 'russian_blue', 'ragdoll', 'beagle', 'great_pyrenees', 'staffordshire_bull_terrier', 'japanese_chin', 'saint_bernard', 'boxer', 'newfoundland', 'wheaten_terrier']\n",
            "37\n"
          ]
        }
      ]
    },
    {
      "cell_type": "code",
      "source": [
        "mapping={ 'basset_hound':0, 'beagle':1, 'russian_blue':2, 'pomeranian':3, 'ragdoll':4,\n",
        "         'staffordshire_bull_terrier':5, 'keeshond':6, 'siamese':7, 'pug':8, 'shiba_inu':9,\n",
        "         'american_pit_bull_terrier':10, 'bengal':11, 'british_shorthair':12, 'newfoundland':13,\n",
        "         'havanese':14, 'japanese_chin':15, 'german_shorthaired':16, 'birman':17, 'maine_coon':18,\n",
        "         'english_cocker_spaniel':19, 'scottish_terrier':20, 'wheaten_terrier':21, 'chihuahua':22,\n",
        "         'american_bulldog':23, 'abyssinian':24, 'boxer':25, 'yorkshire_terrier':26, 'miniature_pinscher':27,\n",
        "         'sphynx':28, 'samoyed':29, 'leonberger':30, 'bombay':31, 'english_setter':32, 'persian':33,\n",
        "         'great_pyrenees':34, 'egyptian_mau':35, 'saint_bernard':36 }"
      ],
      "metadata": {
        "id": "HyeOauWU1OkK"
      },
      "execution_count": 22,
      "outputs": []
    },
    {
      "cell_type": "code",
      "source": [
        "dataset=[]\n",
        "count=0\n",
        "\n",
        "for file in os.listdir(directory):\n",
        "    path=os.path.join(directory,file)\n",
        "    for im in os.listdir(path):\n",
        "        image=load_img(os.path.join(path,im), grayscale=False, color_mode='rgb', target_size=(180,180))\n",
        "        image=img_to_array(image)\n",
        "        image=image/255.0\n",
        "        dataset.append([image,count])\n",
        "    count=count+1"
      ],
      "metadata": {
        "id": "okM_qhl-1TND"
      },
      "execution_count": 23,
      "outputs": []
    },
    {
      "cell_type": "code",
      "source": [
        "test=[]\n",
        "testfile=[]\n",
        "\n",
        "for file in os.listdir(directory2):\n",
        "    path=os.path.join(directory2,file)\n",
        "    image=load_img(path, grayscale=False, color_mode='rgb', target_size=(180,180))\n",
        "    image=img_to_array(image)\n",
        "    image=image/255.0\n",
        "    test+=[image]\n",
        "    testfile+=[file]"
      ],
      "metadata": {
        "id": "yMtaDrMy1jeQ"
      },
      "execution_count": 24,
      "outputs": []
    },
    {
      "cell_type": "code",
      "source": [
        "data,labels0=zip(*dataset)"
      ],
      "metadata": {
        "id": "gRgrRLaW1niN"
      },
      "execution_count": 26,
      "outputs": []
    },
    {
      "cell_type": "code",
      "source": [
        "labels1=to_categorical(labels0)\n",
        "labels=np.array(labels1)"
      ],
      "metadata": {
        "id": "oS0Ra7er1qGM"
      },
      "execution_count": 27,
      "outputs": []
    },
    {
      "cell_type": "code",
      "source": [
        "data=np.array(data)\n",
        "test=np.array(test)"
      ],
      "metadata": {
        "id": "1eASGRx01syX"
      },
      "execution_count": 28,
      "outputs": []
    },
    {
      "cell_type": "code",
      "source": [
        "data2=data.reshape(-1,180,180,3)\n",
        "test2=test.reshape(-1,180,180,3)"
      ],
      "metadata": {
        "id": "y6dqGBiA13m3"
      },
      "execution_count": 29,
      "outputs": []
    },
    {
      "cell_type": "code",
      "source": [
        "trainx,testx,trainy,testy=train_test_split(data,labels,test_size=0.2,random_state=44)"
      ],
      "metadata": {
        "id": "8QcGF4KQ15aM"
      },
      "execution_count": 30,
      "outputs": []
    },
    {
      "cell_type": "code",
      "source": [
        "print(trainx.shape)\n",
        "print(testx.shape)\n",
        "print(trainy.shape)\n",
        "print(testy.shape)"
      ],
      "metadata": {
        "colab": {
          "base_uri": "https://localhost:8080/"
        },
        "id": "N5xGK_zZ18on",
        "outputId": "80fea1aa-f5c5-473b-9ea3-be04a7f4c1ca"
      },
      "execution_count": 31,
      "outputs": [
        {
          "output_type": "stream",
          "name": "stdout",
          "text": [
            "(4712, 180, 180, 3)\n",
            "(1178, 180, 180, 3)\n",
            "(4712, 37)\n",
            "(1178, 37)\n"
          ]
        }
      ]
    },
    {
      "cell_type": "code",
      "source": [
        "datagen = ImageDataGenerator(horizontal_flip=True,vertical_flip=True,rotation_range=20,zoom_range=0.2,\n",
        "                        width_shift_range=0.2,height_shift_range=0.2,shear_range=0.1,fill_mode=\"nearest\")"
      ],
      "metadata": {
        "id": "e11ek5Om2TjB"
      },
      "execution_count": 32,
      "outputs": []
    },
    {
      "cell_type": "code",
      "source": [
        "pretrained_model3 = tf.keras.applications.DenseNet121(input_shape=(180,180,3),include_top=False,weights='imagenet',pooling='avg')\n",
        "pretrained_model3.trainable = False"
      ],
      "metadata": {
        "colab": {
          "base_uri": "https://localhost:8080/"
        },
        "id": "8Wy6LI132YD6",
        "outputId": "ee9dd956-6849-4d71-99df-60bda379beaa"
      },
      "execution_count": 33,
      "outputs": [
        {
          "output_type": "stream",
          "name": "stdout",
          "text": [
            "Downloading data from https://storage.googleapis.com/tensorflow/keras-applications/densenet/densenet121_weights_tf_dim_ordering_tf_kernels_notop.h5\n",
            "29084464/29084464 [==============================] - 0s 0us/step\n"
          ]
        }
      ]
    },
    {
      "cell_type": "code",
      "source": [
        "inputs3 = pretrained_model3.input\n",
        "x3 = tf.keras.layers.Dense(128, activation='relu')(pretrained_model3.output)\n",
        "outputs3 = tf.keras.layers.Dense(37, activation='softmax')(x3)\n",
        "model = tf.keras.Model(inputs=inputs3, outputs=outputs3)"
      ],
      "metadata": {
        "id": "8XKGtMjV2dxL"
      },
      "execution_count": 35,
      "outputs": []
    },
    {
      "cell_type": "code",
      "source": [
        "model.compile(optimizer='adam',loss='categorical_crossentropy',metrics=['accuracy'])"
      ],
      "metadata": {
        "id": "rhNZGJuh2zXd"
      },
      "execution_count": 36,
      "outputs": []
    },
    {
      "cell_type": "code",
      "source": [
        "his=model.fit(datagen.flow(trainx,trainy,batch_size=32),validation_data=(testx,testy),epochs=10)"
      ],
      "metadata": {
        "colab": {
          "base_uri": "https://localhost:8080/"
        },
        "id": "LwcCMHb420hs",
        "outputId": "c3aef9ee-b6bd-4c84-d7aa-263de0e5b5e3"
      },
      "execution_count": null,
      "outputs": [
        {
          "output_type": "stream",
          "name": "stdout",
          "text": [
            "Epoch 1/10\n",
            "148/148 [==============================] - 662s 4s/step - loss: 2.1850 - accuracy: 0.4047 - val_loss: 0.7514 - val_accuracy: 0.7530\n",
            "Epoch 2/10\n",
            "148/148 [==============================] - 666s 5s/step - loss: 1.2585 - accuracy: 0.6108 - val_loss: 0.6483 - val_accuracy: 0.7895\n",
            "Epoch 3/10\n",
            "148/148 [==============================] - 675s 5s/step - loss: 1.0360 - accuracy: 0.6785 - val_loss: 0.5619 - val_accuracy: 0.8115\n",
            "Epoch 4/10\n",
            "106/148 [====================>.........] - ETA: 2:26 - loss: 0.9355 - accuracy: 0.7123"
          ]
        }
      ]
    },
    {
      "cell_type": "code",
      "source": [
        "y_pred=model.predict(testx)\n",
        "pred=np.argmax(y_pred,axis=1)\n",
        "ground = np.argmax(testy,axis=1)\n",
        "print(classification_report(ground,pred))"
      ],
      "metadata": {
        "id": "x2fWPkme_zNF",
        "outputId": "4ae000f5-1366-45d0-b8d5-83737fab24cb",
        "colab": {
          "base_uri": "https://localhost:8080/"
        }
      },
      "execution_count": null,
      "outputs": [
        {
          "output_type": "stream",
          "name": "stdout",
          "text": [
            "37/37 [==============================] - 128s 3s/step\n",
            "              precision    recall  f1-score   support\n",
            "\n",
            "           0       0.71      0.23      0.34        22\n",
            "           1       1.00      0.94      0.97        33\n",
            "           2       0.81      0.72      0.76        29\n",
            "           3       0.96      0.84      0.90        31\n",
            "           4       1.00      0.96      0.98        27\n",
            "           5       0.84      0.72      0.78        36\n",
            "           6       0.85      0.85      0.85        40\n",
            "           7       1.00      0.66      0.79        32\n",
            "           8       0.94      0.79      0.86        39\n",
            "           9       0.80      0.77      0.79        31\n",
            "          10       0.96      0.87      0.91        30\n",
            "          11       0.84      0.87      0.86        31\n",
            "          12       0.69      0.86      0.76        28\n",
            "          13       0.75      0.94      0.84        35\n",
            "          14       0.84      0.86      0.85        36\n",
            "          15       1.00      0.91      0.95        34\n",
            "          16       0.93      0.81      0.87        32\n",
            "          17       0.90      0.90      0.90        31\n",
            "          18       1.00      1.00      1.00        30\n",
            "          19       1.00      0.98      0.99        42\n",
            "          20       0.72      0.64      0.68        33\n",
            "          21       0.95      1.00      0.97        35\n",
            "          22       0.96      0.78      0.86        32\n",
            "          23       0.93      0.93      0.93        30\n",
            "          24       0.83      0.96      0.89        25\n",
            "          25       0.90      0.82      0.86        22\n",
            "          26       0.82      0.90      0.86        31\n",
            "          27       0.71      0.84      0.77        32\n",
            "          28       0.61      0.83      0.70        30\n",
            "          29       0.71      0.83      0.76        29\n",
            "          30       0.92      0.97      0.95        36\n",
            "          31       0.58      0.79      0.67        38\n",
            "          32       0.93      0.98      0.95        42\n",
            "          33       1.00      0.85      0.92        34\n",
            "          34       0.80      0.77      0.79        31\n",
            "          35       0.78      1.00      0.88        21\n",
            "          36       0.88      1.00      0.93        28\n",
            "\n",
            "    accuracy                           0.85      1178\n",
            "   macro avg       0.86      0.85      0.85      1178\n",
            "weighted avg       0.86      0.85      0.85      1178\n",
            "\n"
          ]
        }
      ]
    },
    {
      "cell_type": "code",
      "source": [
        "get_acc = his.history['accuracy']\n",
        "value_acc = his.history['val_accuracy']\n",
        "get_loss = his.history['loss']\n",
        "validation_loss = his.history['val_loss']\n",
        "\n",
        "epochs = range(len(get_acc))\n",
        "plt.plot(epochs, get_acc, 'r', label='Accuracy of Training data')\n",
        "plt.plot(epochs, value_acc, 'b', label='Accuracy of Validation data')\n",
        "plt.title('Training vs validation accuracy')\n",
        "plt.legend(loc=0)\n",
        "plt.figure()\n",
        "plt.show()"
      ],
      "metadata": {
        "id": "KG04LcK6_0At",
        "outputId": "c87e5043-9c8a-4c6b-8925-581f2b817d4f",
        "colab": {
          "base_uri": "https://localhost:8080/",
          "height": 469
        }
      },
      "execution_count": null,
      "outputs": [
        {
          "output_type": "display_data",
          "data": {
            "text/plain": [
              "<Figure size 640x480 with 1 Axes>"
            ],
            "image/png": "[encoded data removed]"
          },
          "metadata": {}
        },
        {
          "output_type": "display_data",
          "data": {
            "text/plain": [
              "<Figure size 640x480 with 0 Axes>"
            ]
          },
          "metadata": {}
        }
      ]
    },
    {
      "cell_type": "code",
      "source": [
        "epochs = range(len(get_loss))\n",
        "plt.plot(epochs, get_loss, 'r', label='Loss of Training data')\n",
        "plt.plot(epochs, validation_loss, 'b', label='Loss of Validation data')\n",
        "plt.title('Training vs validation loss')\n",
        "plt.legend(loc=0)\n",
        "plt.figure()\n",
        "plt.show()"
      ],
      "metadata": {
        "id": "CWmos4bW_4cs",
        "outputId": "4cf43e96-187f-4ee9-c8b0-e0b1a22dc6f9",
        "colab": {
          "base_uri": "https://localhost:8080/",
          "height": 469
        }
      },
      "execution_count": null,
      "outputs": [
        {
          "output_type": "display_data",
          "data": {
            "text/plain": [
              "<Figure size 640x480 with 1 Axes>"
            ],
            "image/png": "[encoded data removed]"
          },
          "metadata": {}
        },
        {
          "output_type": "display_data",
          "data": {
            "text/plain": [
              "<Figure size 640x480 with 0 Axes>"
            ]
          },
          "metadata": {}
        }
      ]
    },
    {
      "cell_type": "code",
      "source": [
        "load_img(\"/content/data_dir/TEST/1020.jpg\",target_size=(180,180))"
      ],
      "metadata": {
        "id": "MJMDOX75_80n",
        "outputId": "742d4673-304d-4185-f080-4503aafb3fa0",
        "colab": {
          "base_uri": "https://localhost:8080/",
          "height": 197
        }
      },
      "execution_count": null,
      "outputs": [
        {
          "output_type": "execute_result",
          "data": {
            "text/plain": [
              "<PIL.Image.Image image mode=RGB size=180x180>"
            ],
            "image/png": "[encoded data removed]"
          },
          "metadata": {},
          "execution_count": 48
        }
      ]
    },
    {
      "cell_type": "code",
      "source": [
        "image=img_to_array(image)\n",
        "image=image/255.0\n",
        "prediction_image=np.array(image)\n",
        "prediction_image= np.expand_dims(image, axis=0)"
      ],
      "metadata": {
        "id": "j8qpWQ3wAVqy",
        "colab": {
          "base_uri": "https://localhost:8080/",
          "height": 228
        },
        "outputId": "eac1bfbc-99a5-41e8-cd01-5362f724323c"
      },
      "execution_count": 14,
      "outputs": [
        {
          "output_type": "error",
          "ename": "NameError",
          "evalue": "ignored",
          "traceback": [
            "\u001b[0;31m---------------------------------------------------------------------------\u001b[0m",
            "\u001b[0;31mNameError\u001b[0m                                 Traceback (most recent call last)",
            "\u001b[0;32m<ipython-input-14-a74e67949573>\u001b[0m in \u001b[0;36m<cell line: 1>\u001b[0;34m()\u001b[0m\n\u001b[0;32m----> 1\u001b[0;31m \u001b[0mimage\u001b[0m\u001b[0;34m=\u001b[0m\u001b[0mimg_to_array\u001b[0m\u001b[0;34m(\u001b[0m\u001b[0mimage\u001b[0m\u001b[0;34m)\u001b[0m\u001b[0;34m\u001b[0m\u001b[0;34m\u001b[0m\u001b[0m\n\u001b[0m\u001b[1;32m      2\u001b[0m \u001b[0mimage\u001b[0m\u001b[0;34m=\u001b[0m\u001b[0mimage\u001b[0m\u001b[0;34m/\u001b[0m\u001b[0;36m255.0\u001b[0m\u001b[0;34m\u001b[0m\u001b[0;34m\u001b[0m\u001b[0m\n\u001b[1;32m      3\u001b[0m \u001b[0mprediction_image\u001b[0m\u001b[0;34m=\u001b[0m\u001b[0mnp\u001b[0m\u001b[0;34m.\u001b[0m\u001b[0marray\u001b[0m\u001b[0;34m(\u001b[0m\u001b[0mimage\u001b[0m\u001b[0;34m)\u001b[0m\u001b[0;34m\u001b[0m\u001b[0;34m\u001b[0m\u001b[0m\n\u001b[1;32m      4\u001b[0m \u001b[0mprediction_image\u001b[0m\u001b[0;34m=\u001b[0m \u001b[0mnp\u001b[0m\u001b[0;34m.\u001b[0m\u001b[0mexpand_dims\u001b[0m\u001b[0;34m(\u001b[0m\u001b[0mimage\u001b[0m\u001b[0;34m,\u001b[0m \u001b[0maxis\u001b[0m\u001b[0;34m=\u001b[0m\u001b[0;36m0\u001b[0m\u001b[0;34m)\u001b[0m\u001b[0;34m\u001b[0m\u001b[0;34m\u001b[0m\u001b[0m\n",
            "\u001b[0;31mNameError\u001b[0m: name 'img_to_array' is not defined"
          ]
        }
      ]
    },
    {
      "cell_type": "code",
      "source": [
        "reverse_mapping={  0:'basset_hound', 1:'beagle', 2:'russian_blue', 3:'pomeranian', 4:'ragdoll',\n",
        "         5:'staffordshire_bull_terrier', 6:'keeshond', 7:'siamese', 8:'pug', 9:'shiba_inu',\n",
        "         10:'american_pit_bull_terrier', 11:'bengal', 12:'british_shorthair', 13:'newfoundland',\n",
        "         14:'havanese', 15:'japanese_chin', 16:'german_shorthaired', 17:'birman', 18:'maine_coon',\n",
        "         19:'english_cocker_spaniel', 20:'scottish_terrier', 21:'wheaten_terrier', 22:'chihuahua',\n",
        "         23:'american_bulldog', 24:'abyssinian', 25:'boxer', 26:'yorkshire_terrier', 27:'miniature_pinscher',\n",
        "         28:'sphynx', 29:'samoyed', 30:'leonberger', 31:'bombay', 32:'english_setter', 33:'persian',\n",
        "         34:'great_pyrenees', 35:'egyptian_mau', 36:'saint_bernard' }\n",
        "\n",
        "def mapper(value):\n",
        "    return reverse_mapping[value]\n",
        "\n",
        "prediction=model.predict(prediction_image)\n",
        "value=np.argmax(prediction)\n",
        "move_name=mapper(value)\n",
        "print(\"The breed of the animal is {}.\".format(move_name))"
      ],
      "metadata": {
        "id": "RFlPg_0oAZwQ",
        "colab": {
          "base_uri": "https://localhost:8080/",
          "height": 245
        },
        "outputId": "d853eaf1-4d75-44a5-c3aa-7d6038dc30a9"
      },
      "execution_count": 13,
      "outputs": [
        {
          "output_type": "error",
          "ename": "NameError",
          "evalue": "ignored",
          "traceback": [
            "\u001b[0;31m---------------------------------------------------------------------------\u001b[0m",
            "\u001b[0;31mNameError\u001b[0m                                 Traceback (most recent call last)",
            "\u001b[0;32m<ipython-input-13-9cb680900f40>\u001b[0m in \u001b[0;36m<cell line: 13>\u001b[0;34m()\u001b[0m\n\u001b[1;32m     11\u001b[0m     \u001b[0;32mreturn\u001b[0m \u001b[0mreverse_mapping\u001b[0m\u001b[0;34m[\u001b[0m\u001b[0mvalue\u001b[0m\u001b[0;34m]\u001b[0m\u001b[0;34m\u001b[0m\u001b[0;34m\u001b[0m\u001b[0m\n\u001b[1;32m     12\u001b[0m \u001b[0;34m\u001b[0m\u001b[0m\n\u001b[0;32m---> 13\u001b[0;31m \u001b[0mprediction\u001b[0m\u001b[0;34m=\u001b[0m\u001b[0mmodel\u001b[0m\u001b[0;34m.\u001b[0m\u001b[0mpredict\u001b[0m\u001b[0;34m(\u001b[0m\u001b[0mprediction_image\u001b[0m\u001b[0;34m)\u001b[0m\u001b[0;34m\u001b[0m\u001b[0;34m\u001b[0m\u001b[0m\n\u001b[0m\u001b[1;32m     14\u001b[0m \u001b[0mvalue\u001b[0m\u001b[0;34m=\u001b[0m\u001b[0mnp\u001b[0m\u001b[0;34m.\u001b[0m\u001b[0margmax\u001b[0m\u001b[0;34m(\u001b[0m\u001b[0mprediction\u001b[0m\u001b[0;34m)\u001b[0m\u001b[0;34m\u001b[0m\u001b[0;34m\u001b[0m\u001b[0m\n\u001b[1;32m     15\u001b[0m \u001b[0mmove_name\u001b[0m\u001b[0;34m=\u001b[0m\u001b[0mmapper\u001b[0m\u001b[0;34m(\u001b[0m\u001b[0mvalue\u001b[0m\u001b[0;34m)\u001b[0m\u001b[0;34m\u001b[0m\u001b[0;34m\u001b[0m\u001b[0m\n",
            "\u001b[0;31mNameError\u001b[0m: name 'model' is not defined"
          ]
        }
      ]
    },
    {
      "cell_type": "code",
      "source": [
        "#This is where the color recognition will be placed"
      ],
      "metadata": {
        "id": "stSRs2BqkTgn"
      },
      "execution_count": null,
      "outputs": []
    },
    {
      "cell_type": "code",
      "source": [
        "#Outputing the supplemental information\n",
        "\n",
        "if value == 0:      #Basset Hound\n",
        "    print(\"Known for their distinctive, long ears and droopy expression.\")\n",
        "    print(\"Excellent sense of smell, traditionally used in hunting.\" )\n",
        "    print(\"Generally friendly, affectionate, and good with families.\\n\")\n",
        "\n",
        "elif value == 1:      #Beagle\n",
        "    print(\"Small to medium-sized with a friendly and curious demeanor.\")\n",
        "    print(\"Keen sense of smell, often used in detection work.\")\n",
        "    print(\"Energetic and requires regular exercise.\\n\")\n",
        "\n",
        "elif value == 2:      #Russian Blue\n",
        "    print(\"Recognized for striking blue-gray coat and vivid green eyes.\")\n",
        "    print(\"Reserved nature, forming strong bonds with owners.\")\n",
        "    print(\"Low-shedding and hypoallergenic.\\n\")\n",
        "\n",
        "elif value == 3:      #Pomeranian\n",
        "    print(\"Small, fluffy dogs with a lively and extroverted personality.\")\n",
        "    print(\"Distinctive fox-like face and a luxurious double coat.\")\n",
        "    print(\"Bold and confident, making them good watchdogs.\\n\")\n",
        "\n",
        "elif value == 4:      #Ragdoll\n",
        "    print(\"Cats with striking blue eyes, silky coat, and docile temperament.\")\n",
        "    print(\"Tend to go limp when picked up, known for gentle nature.\")\n",
        "    print(\"Sociable cats that enjoy the company of their owners.\\n\")\n",
        "\n",
        "elif value == 5:      #Staffordshire Bull Terrier\n",
        "    print(\"Muscular and agile dogs with loyalty and affection.\")\n",
        "    print(\"Generally good with children and a friendly disposition.\")\n",
        "    print(\"Proper training and socialization are crucial.\\n\")\n",
        "\n",
        "elif value == 6:      #Keeshond\n",
        "    print(\"Medium-sized dogs with a spectacles appearance.\")\n",
        "    print(\"Friendly and outgoing nature, excellent companions.\")\n",
        "    print(\"Thick double coat requires regular grooming.\\n\")\n",
        "\n",
        "elif value == 7:      #Siamese\n",
        "    print(\"Recognized for striking blue almond-shaped eyes and color-point coat.\")\n",
        "    print(\"Highly vocal and interactive with owners.\")\n",
        "    print(\"Intelligent cats requiring mental stimulation.\\n\")\n",
        "\n",
        "elif value == 8:      #Pug\n",
        "    print(\"Compact size, wrinkled face, and curled tail.\")\n",
        "    print(\"Playful and sociable nature, suitable for various households.\")\n",
        "    print(\"Prone to weight gain, sensitive to extreme temperatures./n\")\n",
        "\n",
        "elif value == 9:      #Shiba Inu\n",
        "    print(\"Japanese breed with a fox-like appearance.\")\n",
        "    print(\"Independent nature, forming strong bonds once comfortable.\")\n",
        "    print(\"Strong prey drive, requiring early training and socialization./n\")\n",
        "\n",
        "elif value == 10:     #American Pit Bull Terrier\n",
        "    print(\"Strong, athletic dogs with loyalty and affection.\")\n",
        "    print(\"Good with children when trained and socialized.\")\n",
        "    print(\"Responsible ownership and positive reinforcement are crucial./n\")\n",
        "\n",
        "elif value == 11:     #Bengal\n",
        "    print(\"Cats with a distinctive spotted or marbled coat.\")\n",
        "    print(\"Energetic and playful, may enjoy climbing.\")\n",
        "    print(\"Intelligent cats requiring mental stimulation./n\")\n",
        "\n",
        "elif value == 12:     #British Shorthair\n",
        "    print(\"Recognized for round faces, dense coat, and large eyes.\")\n",
        "    print(\"Calm and easygoing temperament.\")\n",
        "    print(\"Adaptable to various living environments.\\n\")\n",
        "\n",
        "\n",
        "elif value == 13:     #Newfoundland\n",
        "    print(\"Large and powerful dogs with a gentle and sweet nature.\")\n",
        "    print(\"Excellent swimmers, used in water rescue work.\")\n",
        "    print(\"Good with children, patient demeanor.\\n\")\n",
        "\n",
        "elif value == 14:     #Havanese\n",
        "    print(\"Small, sturdy dogs with a long, silky coat.\")\n",
        "    print(\"Friendly disposition, good with children and other pets.\")\n",
        "    print(\"Regular grooming is essential.\\n\")\n",
        "\n",
        "elif value == 15:     #Japanese Chin\n",
        "    print(\"Small, elegant dogs with a distinctive oriental appearance.\")\n",
        "    print(\"Friendly and gentle temperament.\")\n",
        "    print(\"Entertaining antics and may form strong bonds.\\n\")\n",
        "\n",
        "elif value == 16:     #German Shorthaired Pointer\n",
        "    print(\"Versatile hunting dogs with athleticism and intelligence.\")\n",
        "    print(\"Short coat, highly energetic, requiring regular exercise.\")\n",
        "    print(\"Friendly and trainable, excellent family pets.\\n\")\n",
        "\n",
        "elif value == 17:     #Birman\n",
        "    print(\"Cats with striking blue almond-shaped eyes and color-point markings.\")\n",
        "    print(\"Gentle and affectionate nature.\")\n",
        "    print(\"Relatively low-maintenance grooming.\\n\")\n",
        "\n",
        "elif value == 18:     #Maine Coon\n",
        "    print(\"One of the largest domestic cat breeds.\")\n",
        "    print(\"Friendly and sociable, often good with children.\")\n",
        "    print(\"Prized for intelligence and adaptability.\\n\")\n",
        "\n",
        "elif value == 19:     #English Cocker Spaniel\n",
        "    print(\"Medium-sized dogs with a long, silky coat.\")\n",
        "    print(\"Friendly and affectionate, suitable for families.\")\n",
        "    print(\"Regular exercise and mental stimulation needed.\\n\")\n",
        "\n",
        "elif value == 20:     #Scottish Terrier\n",
        "    print(\"Small dogs with a distinctive wiry coat.\")\n",
        "    print(\"Dignified and independent nature.\")\n",
        "    print(\"Proper training and socialization are essential.\\n\")\n",
        "\n",
        "elif value == 21:     #Wheaten Terrier\n",
        "    print(\"Medium-sized dogs with a soft, wheaten-colored coat.\")\n",
        "    print(\"Playful nature, good with children and other pets.\")\n",
        "    print(\"Regular grooming required.\")\n",
        "\n",
        "elif value == 22:     #Chihuahua\n",
        "    print(\"One of the smallest dog breeds, with a bold personality.\")\n",
        "    print(\"Can exhibit a confident attitude despite their size.\")\n",
        "    print(\"Excellent companions for individuals or families in smaller living spaces.\\n\")\n",
        "\n",
        "elif value == 23:     #American Bulldog\n",
        "    print(\"Muscular, athletic dogs known for strength and loyalty.\")\n",
        "    print(\"Friendly and outgoing, often good with children.\")\n",
        "    print(\"Regular exercise and mental stimulation are important.\\n\")\n",
        "\n",
        "elif value == 24:     #Abyssinian\n",
        "    print(\"Medium-sized cats with a short, ticked coat.\")\n",
        "    print(\"Playful and active nature, enjoys climbing.\")\n",
        "    print(\"Social cats that may form strong bonds.\\n\")\n",
        "\n",
        "elif value == 25:     #Boxer\n",
        "    print(\"Medium to large-sized dogs with a strong, muscular build.\")\n",
        "    print(\"Friendly, intelligent, and protective.\")\n",
        "    print(\"Regular exercise is crucial for maintaining physical health.\\n\")\n",
        "\n",
        "elif value == 26:     #Yorkshire Terrier\n",
        "    print(\"Yorkies are small dogs with long, silky fur and a confident attitude.\")\n",
        "    print(\"They're smart and can learn tricks and activities quickly.\")\n",
        "    print(\"Even though they're tiny, they need playtime and mental stimulation to stay happy.\\n\")\n",
        "\n",
        "elif value == 27:     #Miniature Pinscher\n",
        "    print(\"Small dogs with a compact build, known for their spirited nature.\")\n",
        "    print(\"Display a fearless attitude despite their small size.\")\n",
        "    print(\"Early socialization and training are essential.\\n\")\n",
        "\n",
        "elif value == 28:     #Sphynx\n",
        "    print(\"Hairless cats with distinctive large ears and wrinkled skin.\")\n",
        "    print(\"Require regular bathing to remove oils from their skin.\")\n",
        "    print(\"Described as affectionate and enjoying attention.\\n\")\n",
        "\n",
        "elif value == 29:     #Samoyed\n",
        "    print(\"Large, fluffy dogs with a distinctive \\\"Sammy smile.\\\"\")\n",
        "    print(\"Friendly, sociable, and often good with children.\")\n",
        "    print(\"Regular grooming is essential to manage shedding.\\n\")\n",
        "\n",
        "elif value == 30:     #Leonberger\n",
        "    print(\"Large, majestic dogs with a lion-like mane.\")\n",
        "    print(\"Gentle and friendly temperament, good with children.\")\n",
        "    print(\"Require regular exercise and mental stimulation.\\n\")\n",
        "\n",
        "elif value == 31:     #Bombay\n",
        "    print(\"Medium-sized cats with a sleek, black coat.\")\n",
        "    print(\"Friendly and affectionate, forming strong bonds.\")\n",
        "    print(\"Often described as \\\"mini-panthers.\\\"\\n\")\n",
        "\n",
        "elif value == 32:     #English Setter\n",
        "    print(\"Medium to large-sized dogs with a silky coat.\")\n",
        "    print(\"Known for a gentle and friendly demeanor.\")\n",
        "    print(\"Moderate energy level, enjoys outdoor activities.\\n\")\n",
        "\n",
        "elif value == 33:     #Persian\n",
        "    print(\"Cats known for a long, luxurious coat, flat face, and expressive eyes.\")\n",
        "    print(\"Calm and laid-back personality, prefers a quiet indoor environment.\")\n",
        "    print(\"Regular grooming is essential to prevent matting.\\n\")\n",
        "\n",
        "elif value == 34:     #Great Pyrenees\n",
        "    print(\"Giant dogs known for a thick, weather-resistant double coat.\")\n",
        "    print(\"Calm and gentle nature, often showing a strong protective instinct.\")\n",
        "    print(\"Regular grooming and consistent training are important.\\n\")\n",
        "\n",
        "elif value == 35:     #Egyptian Mau\n",
        "    print(\"Medium-sized cats with a spotted coat resembling wild leopards.\")\n",
        "    print(\"Active and playful nature, enjoys climbing and interactive play.\")\n",
        "    print(\"May form strong bonds with owners and appreciate mental stimulation.\\n\")\n",
        "\n",
        "elif value == 36:     #Saint Bernard\n",
        "    print(\"Giant dogs with a gentle and friendly disposition.\")\n",
        "    print(\"Often good with children and calm indoors.\")\n",
        "    print(\"Require regular grooming and may drool due to loose jowls.\")\n"
      ],
      "metadata": {
        "id": "F2LUlY3ORTvI"
      },
      "execution_count": null,
      "outputs": []
    },
    {
      "cell_type": "code",
      "source": [],
      "metadata": {
        "id": "gzGJLPqIW_Uz"
      },
      "execution_count": null,
      "outputs": []
    },
    {
      "cell_type": "code",
      "source": [],
      "metadata": {
        "id": "_dmjEPWMRTN2"
      },
      "execution_count": null,
      "outputs": []
    },
    {
      "cell_type": "code",
      "source": [
        "print(test.shape)\n",
        "prediction2=model.predict(test)\n",
        "print(prediction2.shape)\n",
        "\n",
        "pred2=[]\n",
        "for item in prediction2:\n",
        "    value2=np.argmax(item)\n",
        "    move_name2=mapper(value2)\n",
        "    pred2+=[move_name2]"
      ],
      "metadata": {
        "id": "9yPiK2-9BAl5",
        "outputId": "bc25d15b-3231-4e1f-8fe2-598280b5c954",
        "colab": {
          "base_uri": "https://localhost:8080/"
        }
      },
      "execution_count": null,
      "outputs": [
        {
          "output_type": "stream",
          "name": "stdout",
          "text": [
            "(1500, 180, 180, 3)\n",
            "47/47 [==============================] - 157s 3s/step\n",
            "(1500, 37)\n"
          ]
        }
      ]
    },
    {
      "cell_type": "code",
      "source": [
        "print(testfile[0:3])\n",
        "print(pred2[0:3])\n",
        "print(len(testfile))\n",
        "print(len(pred2))"
      ],
      "metadata": {
        "id": "VI7WGuppBCgm",
        "outputId": "629b1811-a4e7-4e9d-9e0a-650b8476c019",
        "colab": {
          "base_uri": "https://localhost:8080/"
        }
      },
      "execution_count": null,
      "outputs": [
        {
          "output_type": "stream",
          "name": "stdout",
          "text": [
            "['352.jpg', '1103.jpg', '1485.jpg']\n",
            "['russian_blue', 'yorkshire_terrier', 'staffordshire_bull_terrier']\n",
            "1500\n",
            "1500\n"
          ]
        }
      ]
    },
    {
      "cell_type": "code",
      "source": [
        "numbers=[]\n",
        "for item in testfile:\n",
        "    s=item[0:-4]\n",
        "    numbers+=[int(s)]"
      ],
      "metadata": {
        "id": "BTHbZrfwBES8"
      },
      "execution_count": null,
      "outputs": []
    },
    {
      "cell_type": "code",
      "source": [
        "result = pd.DataFrame(testfile)\n",
        "result[1] = pred2\n",
        "result[2] = numbers\n",
        "result.columns = ['Filename','Class','Numbers']\n",
        "print(result)"
      ],
      "metadata": {
        "id": "uh_CY0AJBGHT",
        "outputId": "313b6e89-02a9-4b2d-e9b7-1f08e9419c43",
        "colab": {
          "base_uri": "https://localhost:8080/"
        }
      },
      "execution_count": null,
      "outputs": [
        {
          "output_type": "stream",
          "name": "stdout",
          "text": [
            "      Filename                       Class  Numbers\n",
            "0      352.jpg                russian_blue      352\n",
            "1     1103.jpg           yorkshire_terrier     1103\n",
            "2     1485.jpg  staffordshire_bull_terrier     1485\n",
            "3      976.jpg                newfoundland      976\n",
            "4     1085.jpg                     persian     1085\n",
            "...        ...                         ...      ...\n",
            "1495  1182.jpg      english_cocker_spaniel     1182\n",
            "1496   617.jpg                      beagle      617\n",
            "1497  1166.jpg                   shiba_inu     1166\n",
            "1498   340.jpg   american_pit_bull_terrier      340\n",
            "1499   834.jpg           british_shorthair      834\n",
            "\n",
            "[1500 rows x 3 columns]\n"
          ]
        }
      ]
    },
    {
      "cell_type": "code",
      "source": [
        "result2=result.sort_values('Numbers').reset_index(drop=True)\n",
        "result3=result2.drop('Numbers',axis=1)\n",
        "print(result3)"
      ],
      "metadata": {
        "id": "en7gno8rBJ2o",
        "outputId": "0e382e24-f77a-43ee-e026-3d66b60988c6",
        "colab": {
          "base_uri": "https://localhost:8080/"
        }
      },
      "execution_count": null,
      "outputs": [
        {
          "output_type": "stream",
          "name": "stdout",
          "text": [
            "      Filename               Class\n",
            "0        1.jpg              bombay\n",
            "1        2.jpg      great_pyrenees\n",
            "2        3.jpg       japanese_chin\n",
            "3        4.jpg  german_shorthaired\n",
            "4        5.jpg   yorkshire_terrier\n",
            "...        ...                 ...\n",
            "1495  1496.jpg          maine_coon\n",
            "1496  1497.jpg           chihuahua\n",
            "1497  1498.jpg                 pug\n",
            "1498  1499.jpg    american_bulldog\n",
            "1499  1500.jpg          pomeranian\n",
            "\n",
            "[1500 rows x 2 columns]\n"
          ]
        }
      ]
    }
  ]
}